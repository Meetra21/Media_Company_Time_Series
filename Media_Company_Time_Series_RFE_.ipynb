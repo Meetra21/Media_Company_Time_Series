{
  "nbformat": 4,
  "nbformat_minor": 0,
  "metadata": {
    "colab": {
      "provenance": [],
      "authorship_tag": "ABX9TyPl90MhKxmn9yzcuX5UuQ+t",
      "include_colab_link": true
    },
    "kernelspec": {
      "name": "python3",
      "display_name": "Python 3"
    },
    "language_info": {
      "name": "python"
    }
  },
  "cells": [
    {
      "cell_type": "markdown",
      "metadata": {
        "id": "view-in-github",
        "colab_type": "text"
      },
      "source": [
        "<a href=\"https://colab.research.google.com/github/Meetra21/Media_Company_Time_Series/blob/main/Media_Company_Time_Series_RFE_.ipynb\" target=\"_parent\"><img src=\"https://colab.research.google.com/assets/colab-badge.svg\" alt=\"Open In Colab\"/></a>"
      ]
    },
    {
      "cell_type": "markdown",
      "metadata": {
        "id": "YaHtB3_tNF3K"
      },
      "source": [
        "**Media Company Dataset**\n",
        "\n",
        "A digital media company (like Voot, Hotstar, Netflix) had launched a show.\n",
        "\n",
        "Initially, the show got a good response, but then witnessed a decline in viewership. The company wants to figure out what went wrong."
      ]
    },
    {
      "cell_type": "markdown",
      "metadata": {
        "id": "aL9gaymq6GaH"
      },
      "source": [
        "**1. Looking at Data & Preprocessing**"
      ]
    },
    {
      "cell_type": "code",
      "metadata": {
        "id": "PaEq7jCqRu5i"
      },
      "source": [
        "import numpy as np\n",
        "np.random.seed(21)"
      ],
      "execution_count": null,
      "outputs": []
    },
    {
      "cell_type": "code",
      "metadata": {
        "id": "i33W-BpYMm7G",
        "colab": {
          "base_uri": "https://localhost:8080/",
          "height": 239
        },
        "outputId": "8df1cf63-1256-4c3a-ecfe-ca4db0d620de"
      },
      "source": [
        "import pandas as pd\n",
        "\n",
        "df=pd.read_csv('mediacompany.csv')\n",
        "df.head()"
      ],
      "execution_count": null,
      "outputs": [
        {
          "output_type": "execute_result",
          "data": {
            "text/html": [
              "<div>\n",
              "<style scoped>\n",
              "    .dataframe tbody tr th:only-of-type {\n",
              "        vertical-align: middle;\n",
              "    }\n",
              "\n",
              "    .dataframe tbody tr th {\n",
              "        vertical-align: top;\n",
              "    }\n",
              "\n",
              "    .dataframe thead th {\n",
              "        text-align: right;\n",
              "    }\n",
              "</style>\n",
              "<table border=\"1\" class=\"dataframe\">\n",
              "  <thead>\n",
              "    <tr style=\"text-align: right;\">\n",
              "      <th></th>\n",
              "      <th>Date</th>\n",
              "      <th>Views_show</th>\n",
              "      <th>Visitors</th>\n",
              "      <th>Views_platform</th>\n",
              "      <th>Ad_impression</th>\n",
              "      <th>Cricket_match_india</th>\n",
              "      <th>Character_A</th>\n",
              "      <th>Unnamed: 7</th>\n",
              "    </tr>\n",
              "  </thead>\n",
              "  <tbody>\n",
              "    <tr>\n",
              "      <th>0</th>\n",
              "      <td>3/1/2017</td>\n",
              "      <td>183738</td>\n",
              "      <td>1260228</td>\n",
              "      <td>1706478</td>\n",
              "      <td>1060860448</td>\n",
              "      <td>0</td>\n",
              "      <td>0</td>\n",
              "      <td>NaN</td>\n",
              "    </tr>\n",
              "    <tr>\n",
              "      <th>1</th>\n",
              "      <td>3/2/2017</td>\n",
              "      <td>193763</td>\n",
              "      <td>1270561</td>\n",
              "      <td>1690727</td>\n",
              "      <td>1031846645</td>\n",
              "      <td>0</td>\n",
              "      <td>0</td>\n",
              "      <td>NaN</td>\n",
              "    </tr>\n",
              "    <tr>\n",
              "      <th>2</th>\n",
              "      <td>3/3/2017</td>\n",
              "      <td>210479</td>\n",
              "      <td>1248183</td>\n",
              "      <td>1726157</td>\n",
              "      <td>1010867575</td>\n",
              "      <td>0</td>\n",
              "      <td>0</td>\n",
              "      <td>NaN</td>\n",
              "    </tr>\n",
              "    <tr>\n",
              "      <th>3</th>\n",
              "      <td>3/4/2017</td>\n",
              "      <td>240061</td>\n",
              "      <td>1492913</td>\n",
              "      <td>1855353</td>\n",
              "      <td>1079194579</td>\n",
              "      <td>1</td>\n",
              "      <td>0</td>\n",
              "      <td>NaN</td>\n",
              "    </tr>\n",
              "    <tr>\n",
              "      <th>4</th>\n",
              "      <td>3/5/2017</td>\n",
              "      <td>446314</td>\n",
              "      <td>1594712</td>\n",
              "      <td>2041418</td>\n",
              "      <td>1357736987</td>\n",
              "      <td>0</td>\n",
              "      <td>0</td>\n",
              "      <td>NaN</td>\n",
              "    </tr>\n",
              "  </tbody>\n",
              "</table>\n",
              "</div>"
            ],
            "text/plain": [
              "       Date  Views_show  Visitors  ...  Cricket_match_india  Character_A  Unnamed: 7\n",
              "0  3/1/2017      183738   1260228  ...                    0            0         NaN\n",
              "1  3/2/2017      193763   1270561  ...                    0            0         NaN\n",
              "2  3/3/2017      210479   1248183  ...                    0            0         NaN\n",
              "3  3/4/2017      240061   1492913  ...                    1            0         NaN\n",
              "4  3/5/2017      446314   1594712  ...                    0            0         NaN\n",
              "\n",
              "[5 rows x 8 columns]"
            ]
          },
          "metadata": {},
          "execution_count": 2
        }
      ]
    },
    {
      "cell_type": "code",
      "metadata": {
        "id": "u4Jpgf9DNvLS",
        "colab": {
          "base_uri": "https://localhost:8080/"
        },
        "outputId": "22eb19ea-5346-405f-aa99-33f03fb5b1f6"
      },
      "source": [
        "df.columns"
      ],
      "execution_count": null,
      "outputs": [
        {
          "output_type": "execute_result",
          "data": {
            "text/plain": [
              "Index(['Date', 'Views_show', 'Visitors', 'Views_platform', 'Ad_impression',\n",
              "       'Cricket_match_india', 'Character_A', 'Unnamed: 7'],\n",
              "      dtype='object')"
            ]
          },
          "metadata": {},
          "execution_count": 3
        }
      ]
    },
    {
      "cell_type": "code",
      "metadata": {
        "id": "bRNr34_wO64i",
        "colab": {
          "base_uri": "https://localhost:8080/"
        },
        "outputId": "ed271757-9bc5-4cc1-957d-c5aaa4d30362"
      },
      "source": [
        "df['Unnamed: 7']"
      ],
      "execution_count": null,
      "outputs": [
        {
          "output_type": "execute_result",
          "data": {
            "text/plain": [
              "0    NaN\n",
              "1    NaN\n",
              "2    NaN\n",
              "3    NaN\n",
              "4    NaN\n",
              "      ..\n",
              "75   NaN\n",
              "76   NaN\n",
              "77   NaN\n",
              "78   NaN\n",
              "79   NaN\n",
              "Name: Unnamed: 7, Length: 80, dtype: float64"
            ]
          },
          "metadata": {},
          "execution_count": 4
        }
      ]
    },
    {
      "cell_type": "code",
      "metadata": {
        "id": "mVf8eBKdNz_I",
        "colab": {
          "base_uri": "https://localhost:8080/"
        },
        "outputId": "3f91760d-ead5-433c-f78f-e1e12dae8cef"
      },
      "source": [
        "import numpy as np\n",
        "\n",
        "df['Unnamed: 7'].unique()"
      ],
      "execution_count": null,
      "outputs": [
        {
          "output_type": "execute_result",
          "data": {
            "text/plain": [
              "array([nan])"
            ]
          },
          "metadata": {},
          "execution_count": 5
        }
      ]
    },
    {
      "cell_type": "code",
      "metadata": {
        "id": "8zrvw5fpOHug"
      },
      "source": [
        "df=df.drop('Unnamed: 7',axis=1)"
      ],
      "execution_count": null,
      "outputs": []
    },
    {
      "cell_type": "markdown",
      "metadata": {
        "id": "Xc84lNdmPLAf"
      },
      "source": [
        "Let's change date column:"
      ]
    },
    {
      "cell_type": "code",
      "metadata": {
        "id": "zlrpo0k-PPti",
        "colab": {
          "base_uri": "https://localhost:8080/"
        },
        "outputId": "dc75fcd9-7b2b-4470-def7-d09372bbfbbf"
      },
      "source": [
        "df['Date'] #or df.Date"
      ],
      "execution_count": null,
      "outputs": [
        {
          "output_type": "execute_result",
          "data": {
            "text/plain": [
              "0      3/1/2017\n",
              "1      3/2/2017\n",
              "2      3/3/2017\n",
              "3      3/4/2017\n",
              "4      3/5/2017\n",
              "        ...    \n",
              "75    5/15/2017\n",
              "76    5/16/2017\n",
              "77    5/17/2017\n",
              "78    5/18/2017\n",
              "79    5/19/2017\n",
              "Name: Date, Length: 80, dtype: object"
            ]
          },
          "metadata": {},
          "execution_count": 7
        }
      ]
    },
    {
      "cell_type": "code",
      "metadata": {
        "id": "5MWcyJwYTTzv",
        "colab": {
          "base_uri": "https://localhost:8080/",
          "height": 116
        },
        "outputId": "dd419f37-d8d5-4451-b9c4-a9318e91664b"
      },
      "source": [
        "df['Date']=pd.to_datetime(df['Date'])\n",
        "df.head(1)"
      ],
      "execution_count": null,
      "outputs": [
        {
          "output_type": "execute_result",
          "data": {
            "text/html": [
              "<div>\n",
              "<style scoped>\n",
              "    .dataframe tbody tr th:only-of-type {\n",
              "        vertical-align: middle;\n",
              "    }\n",
              "\n",
              "    .dataframe tbody tr th {\n",
              "        vertical-align: top;\n",
              "    }\n",
              "\n",
              "    .dataframe thead th {\n",
              "        text-align: right;\n",
              "    }\n",
              "</style>\n",
              "<table border=\"1\" class=\"dataframe\">\n",
              "  <thead>\n",
              "    <tr style=\"text-align: right;\">\n",
              "      <th></th>\n",
              "      <th>Date</th>\n",
              "      <th>Views_show</th>\n",
              "      <th>Visitors</th>\n",
              "      <th>Views_platform</th>\n",
              "      <th>Ad_impression</th>\n",
              "      <th>Cricket_match_india</th>\n",
              "      <th>Character_A</th>\n",
              "    </tr>\n",
              "  </thead>\n",
              "  <tbody>\n",
              "    <tr>\n",
              "      <th>0</th>\n",
              "      <td>2017-03-01</td>\n",
              "      <td>183738</td>\n",
              "      <td>1260228</td>\n",
              "      <td>1706478</td>\n",
              "      <td>1060860448</td>\n",
              "      <td>0</td>\n",
              "      <td>0</td>\n",
              "    </tr>\n",
              "  </tbody>\n",
              "</table>\n",
              "</div>"
            ],
            "text/plain": [
              "        Date  Views_show  ...  Cricket_match_india  Character_A\n",
              "0 2017-03-01      183738  ...                    0            0\n",
              "\n",
              "[1 rows x 7 columns]"
            ]
          },
          "metadata": {},
          "execution_count": 8
        }
      ]
    },
    {
      "cell_type": "code",
      "metadata": {
        "colab": {
          "base_uri": "https://localhost:8080/"
        },
        "id": "iKBV1XIOtc24",
        "outputId": "f14e53de-c7f2-4568-85c3-c86c2b309a56"
      },
      "source": [
        "df['Date'].dt.day_name()"
      ],
      "execution_count": null,
      "outputs": [
        {
          "output_type": "execute_result",
          "data": {
            "text/plain": [
              "0     Wednesday\n",
              "1      Thursday\n",
              "2        Friday\n",
              "3      Saturday\n",
              "4        Sunday\n",
              "        ...    \n",
              "75       Monday\n",
              "76      Tuesday\n",
              "77    Wednesday\n",
              "78     Thursday\n",
              "79       Friday\n",
              "Name: Date, Length: 80, dtype: object"
            ]
          },
          "metadata": {},
          "execution_count": 9
        }
      ]
    },
    {
      "cell_type": "code",
      "metadata": {
        "id": "bdFyRKntxWqo"
      },
      "source": [
        "df['year']=df['Date'].dt.year\n",
        "df['month']=df['Date'].dt.month\n",
        "df['day']=df['Date'].dt.day\n",
        "\n",
        "df['day_name']=df['Date'].dt.day_name()\n",
        "df['weekday']=df['Date'].dt.weekday"
      ],
      "execution_count": null,
      "outputs": []
    },
    {
      "cell_type": "code",
      "metadata": {
        "colab": {
          "base_uri": "https://localhost:8080/"
        },
        "id": "OzdOa9GR-13b",
        "outputId": "0c65d282-fdb3-4349-db87-207e4cc0c820"
      },
      "source": [
        "df['year'].unique(), df['month'].unique(), df['day'].unique()"
      ],
      "execution_count": null,
      "outputs": [
        {
          "output_type": "execute_result",
          "data": {
            "text/plain": [
              "(array([2017]),\n",
              " array([3, 4, 5]),\n",
              " array([ 1,  2,  3,  4,  5,  6,  7,  8,  9, 10, 11, 12, 13, 14, 15, 16, 17,\n",
              "        18, 19, 20, 21, 22, 23, 24, 25, 26, 27, 28, 29, 30, 31]))"
            ]
          },
          "metadata": {},
          "execution_count": 11
        }
      ]
    },
    {
      "cell_type": "code",
      "metadata": {
        "colab": {
          "base_uri": "https://localhost:8080/",
          "height": 401
        },
        "id": "lxRDp5ZmEBaJ",
        "outputId": "ddd35303-bf4b-4a04-8abe-de18d1695191"
      },
      "source": [
        "df.head(7)"
      ],
      "execution_count": null,
      "outputs": [
        {
          "output_type": "execute_result",
          "data": {
            "text/html": [
              "<div>\n",
              "<style scoped>\n",
              "    .dataframe tbody tr th:only-of-type {\n",
              "        vertical-align: middle;\n",
              "    }\n",
              "\n",
              "    .dataframe tbody tr th {\n",
              "        vertical-align: top;\n",
              "    }\n",
              "\n",
              "    .dataframe thead th {\n",
              "        text-align: right;\n",
              "    }\n",
              "</style>\n",
              "<table border=\"1\" class=\"dataframe\">\n",
              "  <thead>\n",
              "    <tr style=\"text-align: right;\">\n",
              "      <th></th>\n",
              "      <th>Date</th>\n",
              "      <th>Views_show</th>\n",
              "      <th>Visitors</th>\n",
              "      <th>Views_platform</th>\n",
              "      <th>Ad_impression</th>\n",
              "      <th>Cricket_match_india</th>\n",
              "      <th>Character_A</th>\n",
              "      <th>year</th>\n",
              "      <th>month</th>\n",
              "      <th>day</th>\n",
              "      <th>day_name</th>\n",
              "      <th>weekday</th>\n",
              "    </tr>\n",
              "  </thead>\n",
              "  <tbody>\n",
              "    <tr>\n",
              "      <th>0</th>\n",
              "      <td>2017-03-01</td>\n",
              "      <td>183738</td>\n",
              "      <td>1260228</td>\n",
              "      <td>1706478</td>\n",
              "      <td>1060860448</td>\n",
              "      <td>0</td>\n",
              "      <td>0</td>\n",
              "      <td>2017</td>\n",
              "      <td>3</td>\n",
              "      <td>1</td>\n",
              "      <td>Wednesday</td>\n",
              "      <td>2</td>\n",
              "    </tr>\n",
              "    <tr>\n",
              "      <th>1</th>\n",
              "      <td>2017-03-02</td>\n",
              "      <td>193763</td>\n",
              "      <td>1270561</td>\n",
              "      <td>1690727</td>\n",
              "      <td>1031846645</td>\n",
              "      <td>0</td>\n",
              "      <td>0</td>\n",
              "      <td>2017</td>\n",
              "      <td>3</td>\n",
              "      <td>2</td>\n",
              "      <td>Thursday</td>\n",
              "      <td>3</td>\n",
              "    </tr>\n",
              "    <tr>\n",
              "      <th>2</th>\n",
              "      <td>2017-03-03</td>\n",
              "      <td>210479</td>\n",
              "      <td>1248183</td>\n",
              "      <td>1726157</td>\n",
              "      <td>1010867575</td>\n",
              "      <td>0</td>\n",
              "      <td>0</td>\n",
              "      <td>2017</td>\n",
              "      <td>3</td>\n",
              "      <td>3</td>\n",
              "      <td>Friday</td>\n",
              "      <td>4</td>\n",
              "    </tr>\n",
              "    <tr>\n",
              "      <th>3</th>\n",
              "      <td>2017-03-04</td>\n",
              "      <td>240061</td>\n",
              "      <td>1492913</td>\n",
              "      <td>1855353</td>\n",
              "      <td>1079194579</td>\n",
              "      <td>1</td>\n",
              "      <td>0</td>\n",
              "      <td>2017</td>\n",
              "      <td>3</td>\n",
              "      <td>4</td>\n",
              "      <td>Saturday</td>\n",
              "      <td>5</td>\n",
              "    </tr>\n",
              "    <tr>\n",
              "      <th>4</th>\n",
              "      <td>2017-03-05</td>\n",
              "      <td>446314</td>\n",
              "      <td>1594712</td>\n",
              "      <td>2041418</td>\n",
              "      <td>1357736987</td>\n",
              "      <td>0</td>\n",
              "      <td>0</td>\n",
              "      <td>2017</td>\n",
              "      <td>3</td>\n",
              "      <td>5</td>\n",
              "      <td>Sunday</td>\n",
              "      <td>6</td>\n",
              "    </tr>\n",
              "    <tr>\n",
              "      <th>5</th>\n",
              "      <td>2017-03-06</td>\n",
              "      <td>342997</td>\n",
              "      <td>1330689</td>\n",
              "      <td>1742540</td>\n",
              "      <td>1140228426</td>\n",
              "      <td>0</td>\n",
              "      <td>0</td>\n",
              "      <td>2017</td>\n",
              "      <td>3</td>\n",
              "      <td>6</td>\n",
              "      <td>Monday</td>\n",
              "      <td>0</td>\n",
              "    </tr>\n",
              "    <tr>\n",
              "      <th>6</th>\n",
              "      <td>2017-03-07</td>\n",
              "      <td>227313</td>\n",
              "      <td>1363579</td>\n",
              "      <td>1821742</td>\n",
              "      <td>1113811802</td>\n",
              "      <td>0</td>\n",
              "      <td>0</td>\n",
              "      <td>2017</td>\n",
              "      <td>3</td>\n",
              "      <td>7</td>\n",
              "      <td>Tuesday</td>\n",
              "      <td>1</td>\n",
              "    </tr>\n",
              "  </tbody>\n",
              "</table>\n",
              "</div>"
            ],
            "text/plain": [
              "        Date  Views_show  Visitors  ...  day   day_name  weekday\n",
              "0 2017-03-01      183738   1260228  ...    1  Wednesday        2\n",
              "1 2017-03-02      193763   1270561  ...    2   Thursday        3\n",
              "2 2017-03-03      210479   1248183  ...    3     Friday        4\n",
              "3 2017-03-04      240061   1492913  ...    4   Saturday        5\n",
              "4 2017-03-05      446314   1594712  ...    5     Sunday        6\n",
              "5 2017-03-06      342997   1330689  ...    6     Monday        0\n",
              "6 2017-03-07      227313   1363579  ...    7    Tuesday        1\n",
              "\n",
              "[7 rows x 12 columns]"
            ]
          },
          "metadata": {},
          "execution_count": 12
        }
      ]
    },
    {
      "cell_type": "markdown",
      "metadata": {
        "id": "ZZ2oCTqL-HBH"
      },
      "source": [
        "So weekdays M-F are from 0-4:"
      ]
    },
    {
      "cell_type": "markdown",
      "metadata": {
        "id": "hERFc9mm6z_A"
      },
      "source": [
        "**2. Visualizing Data**"
      ]
    },
    {
      "cell_type": "code",
      "metadata": {
        "colab": {
          "base_uri": "https://localhost:8080/",
          "height": 265
        },
        "id": "K_2hVRg1E-_g",
        "outputId": "36863de1-304e-4142-a8db-3ca9e47223c7"
      },
      "source": [
        "import matplotlib.pyplot as plt\n",
        "\n",
        "plt.plot(df['Views_show'], linestyle='dotted');"
      ],
      "execution_count": null,
      "outputs": [
        {
          "output_type": "display_data",
          "data": {
            "image/png": "[encoded data removed]",
            "text/plain": [
              "<Figure size 432x288 with 1 Axes>"
            ]
          },
          "metadata": {
            "needs_background": "light"
          }
        }
      ]
    },
    {
      "cell_type": "code",
      "metadata": {
        "colab": {
          "base_uri": "https://localhost:8080/",
          "height": 279
        },
        "id": "CVTriAM-4Wpl",
        "outputId": "371471da-40c9-43a4-ab5d-d6755537a4d8"
      },
      "source": [
        "import matplotlib.pyplot as plt\n",
        "\n",
        "plt.scatter(x=df['day'], y=df['Views_show'], color='y')\n",
        "plt.xlabel('day')\n",
        "plt.ylabel('Views_show');"
      ],
      "execution_count": null,
      "outputs": [
        {
          "output_type": "display_data",
          "data": {
            "image/png": "[encoded data removed]",
            "text/plain": [
              "<Figure size 432x288 with 1 Axes>"
            ]
          },
          "metadata": {
            "needs_background": "light"
          }
        }
      ]
    },
    {
      "cell_type": "code",
      "metadata": {
        "colab": {
          "base_uri": "https://localhost:8080/"
        },
        "id": "sbtKfO4e7Xlh",
        "outputId": "dfe8cd3e-6fff-407d-c64c-4073162959f8"
      },
      "source": [
        "df.corr()['Views_show'].sort_values(ascending=False)"
      ],
      "execution_count": null,
      "outputs": [
        {
          "output_type": "execute_result",
          "data": {
            "text/plain": [
              "Views_show             1.000000\n",
              "Ad_impression          0.785673\n",
              "Views_platform         0.604279\n",
              "Visitors               0.535290\n",
              "weekday                0.410886\n",
              "Character_A            0.402533\n",
              "day                    0.069978\n",
              "month                 -0.065494\n",
              "Cricket_match_india   -0.083154\n",
              "year                        NaN\n",
              "Name: Views_show, dtype: float64"
            ]
          },
          "metadata": {},
          "execution_count": 15
        }
      ]
    },
    {
      "cell_type": "code",
      "metadata": {
        "colab": {
          "base_uri": "https://localhost:8080/",
          "height": 360
        },
        "id": "Mfi-ryvhHG2-",
        "outputId": "e7271a76-9860-44d5-c64d-7abc817d5512"
      },
      "source": [
        "import seaborn as sns\n",
        "\n",
        "sns.heatmap(df.corr(), annot=True);"
      ],
      "execution_count": null,
      "outputs": [
        {
          "output_type": "display_data",
          "data": {
            "image/png": "[encoded data removed]",
            "text/plain": [
              "<Figure size 432x288 with 2 Axes>"
            ]
          },
          "metadata": {
            "needs_background": "light"
          }
        }
      ]
    },
    {
      "cell_type": "markdown",
      "metadata": {
        "id": "mb5NlQmJFdPd"
      },
      "source": [
        "**3. Training The Data**"
      ]
    },
    {
      "cell_type": "code",
      "metadata": {
        "id": "ECEBKKZqFj1A"
      },
      "source": [
        "x=df.drop(['Date','Views_show','day_name'], axis=1).copy()\n",
        "y=df['Views_show'].copy()"
      ],
      "execution_count": null,
      "outputs": []
    },
    {
      "cell_type": "code",
      "metadata": {
        "id": "AsS1Dg7sH8R-"
      },
      "source": [
        "from sklearn.model_selection import train_test_split\n",
        "\n",
        "x_train, x_test, y_train, y_test = train_test_split(x,y,test_size=0.25)"
      ],
      "execution_count": null,
      "outputs": []
    },
    {
      "cell_type": "markdown",
      "metadata": {
        "id": "qrV4Ew-nKLrx"
      },
      "source": [
        "from sklearn.preprocessing import StandardScaler\n",
        "\n",
        "scaler=StandardScaler()\n",
        "xtrain=scaler.fit_transform(x_train)\n",
        "xtest=scaler.transform(x_test)"
      ]
    },
    {
      "cell_type": "code",
      "metadata": {
        "id": "6RQSSwX9Jdsi"
      },
      "source": [
        "from sklearn.preprocessing import StandardScaler\n",
        "\n",
        "scaler=StandardScaler()\n",
        "xtrain=scaler.fit_transform(x_train)"
      ],
      "execution_count": null,
      "outputs": []
    },
    {
      "cell_type": "markdown",
      "metadata": {
        "id": "F0enB0yQHZzu"
      },
      "source": [
        "**4. Model Selection using RFE OR RFECV**"
      ]
    },
    {
      "cell_type": "markdown",
      "metadata": {
        "id": "WHuQ_CoXHe3C"
      },
      "source": [
        "RFE\n",
        "\n",
        "class sklearn.feature_selection.RFE(estimator, *, n_features_to_select=None, step=1, verbose=0, importance_getter='auto')"
      ]
    },
    {
      "cell_type": "code",
      "metadata": {
        "colab": {
          "base_uri": "https://localhost:8080/"
        },
        "id": "81qsjXXmHt8o",
        "outputId": "b21b9c87-f9ad-433f-d673-2d44d2141415"
      },
      "source": [
        "from sklearn.linear_model import LinearRegression\n",
        "from sklearn.feature_selection import RFE\n",
        "\n",
        "lin_reg=LinearRegression()\n",
        "rfe=RFE(lin_reg)\n",
        "\n",
        "rfe.fit(xtrain,y_train)"
      ],
      "execution_count": null,
      "outputs": [
        {
          "output_type": "execute_result",
          "data": {
            "text/plain": [
              "RFE(estimator=LinearRegression(copy_X=True, fit_intercept=True, n_jobs=None,\n",
              "                               normalize=False),\n",
              "    n_features_to_select=None, step=1, verbose=0)"
            ]
          },
          "metadata": {},
          "execution_count": 20
        }
      ]
    },
    {
      "cell_type": "code",
      "metadata": {
        "colab": {
          "base_uri": "https://localhost:8080/"
        },
        "id": "7T5F-m_2Ip-v",
        "outputId": "31f0ac16-c255-4187-c9e0-cc0d3ad2fbd7"
      },
      "source": [
        "rfe.n_features_"
      ],
      "execution_count": null,
      "outputs": [
        {
          "output_type": "execute_result",
          "data": {
            "text/plain": [
              "4"
            ]
          },
          "metadata": {},
          "execution_count": 21
        }
      ]
    },
    {
      "cell_type": "code",
      "metadata": {
        "colab": {
          "base_uri": "https://localhost:8080/"
        },
        "id": "77BV0zzfI1f-",
        "outputId": "811aa37d-612f-4408-fb76-01c6c315012e"
      },
      "source": [
        "rfe.support_"
      ],
      "execution_count": null,
      "outputs": [
        {
          "output_type": "execute_result",
          "data": {
            "text/plain": [
              "array([ True, False,  True, False, False, False,  True,  True, False])"
            ]
          },
          "metadata": {},
          "execution_count": 22
        }
      ]
    },
    {
      "cell_type": "code",
      "metadata": {
        "colab": {
          "base_uri": "https://localhost:8080/"
        },
        "id": "eAY9m-qeI4d6",
        "outputId": "9a0ccd52-13c4-405b-c9f6-9d26816a2404"
      },
      "source": [
        "rfe.ranking_"
      ],
      "execution_count": null,
      "outputs": [
        {
          "output_type": "execute_result",
          "data": {
            "text/plain": [
              "array([1, 3, 1, 2, 4, 6, 1, 1, 5])"
            ]
          },
          "metadata": {},
          "execution_count": 23
        }
      ]
    },
    {
      "cell_type": "code",
      "metadata": {
        "colab": {
          "base_uri": "https://localhost:8080/",
          "height": 325
        },
        "id": "lzDUAwnJI8x7",
        "outputId": "91aba9ae-b80f-4378-da4b-513973fb415e"
      },
      "source": [
        "pd.DataFrame(rfe.ranking_, index=x_train.columns)"
      ],
      "execution_count": null,
      "outputs": [
        {
          "output_type": "execute_result",
          "data": {
            "text/html": [
              "<div>\n",
              "<style scoped>\n",
              "    .dataframe tbody tr th:only-of-type {\n",
              "        vertical-align: middle;\n",
              "    }\n",
              "\n",
              "    .dataframe tbody tr th {\n",
              "        vertical-align: top;\n",
              "    }\n",
              "\n",
              "    .dataframe thead th {\n",
              "        text-align: right;\n",
              "    }\n",
              "</style>\n",
              "<table border=\"1\" class=\"dataframe\">\n",
              "  <thead>\n",
              "    <tr style=\"text-align: right;\">\n",
              "      <th></th>\n",
              "      <th>0</th>\n",
              "    </tr>\n",
              "  </thead>\n",
              "  <tbody>\n",
              "    <tr>\n",
              "      <th>Visitors</th>\n",
              "      <td>1</td>\n",
              "    </tr>\n",
              "    <tr>\n",
              "      <th>Views_platform</th>\n",
              "      <td>3</td>\n",
              "    </tr>\n",
              "    <tr>\n",
              "      <th>Ad_impression</th>\n",
              "      <td>1</td>\n",
              "    </tr>\n",
              "    <tr>\n",
              "      <th>Cricket_match_india</th>\n",
              "      <td>2</td>\n",
              "    </tr>\n",
              "    <tr>\n",
              "      <th>Character_A</th>\n",
              "      <td>4</td>\n",
              "    </tr>\n",
              "    <tr>\n",
              "      <th>year</th>\n",
              "      <td>6</td>\n",
              "    </tr>\n",
              "    <tr>\n",
              "      <th>month</th>\n",
              "      <td>1</td>\n",
              "    </tr>\n",
              "    <tr>\n",
              "      <th>day</th>\n",
              "      <td>1</td>\n",
              "    </tr>\n",
              "    <tr>\n",
              "      <th>weekday</th>\n",
              "      <td>5</td>\n",
              "    </tr>\n",
              "  </tbody>\n",
              "</table>\n",
              "</div>"
            ],
            "text/plain": [
              "                     0\n",
              "Visitors             1\n",
              "Views_platform       3\n",
              "Ad_impression        1\n",
              "Cricket_match_india  2\n",
              "Character_A          4\n",
              "year                 6\n",
              "month                1\n",
              "day                  1\n",
              "weekday              5"
            ]
          },
          "metadata": {},
          "execution_count": 24
        }
      ]
    },
    {
      "cell_type": "code",
      "metadata": {
        "id": "I2vqakofJUWD"
      },
      "source": [
        "list=['Cricket_match_india','Character_A','year','weekday']\n",
        "\n",
        "x_train_rfe=x_train.drop(list,axis=1)"
      ],
      "execution_count": null,
      "outputs": []
    },
    {
      "cell_type": "code",
      "metadata": {
        "id": "kIJ9k6iTLO7-"
      },
      "source": [
        "from sklearn.preprocessing import StandardScaler\n",
        "\n",
        "scaler=StandardScaler()\n",
        "\n",
        "xtrain=scaler.fit_transform(x_train_rfe)\n",
        "\n",
        "x_test_rfe=x_test.drop(list, axis=1)\n",
        "xtest=scaler.transform(x_test_rfe)"
      ],
      "execution_count": null,
      "outputs": []
    },
    {
      "cell_type": "code",
      "metadata": {
        "colab": {
          "base_uri": "https://localhost:8080/"
        },
        "id": "nlrwpJWYJwrn",
        "outputId": "8c4bcc4b-b756-4aac-ecc0-20cb4ef6a3dc"
      },
      "source": [
        "from sklearn.model_selection import cross_val_score\n",
        "\n",
        "scores=cross_val_score(lin_reg,xtrain,y_train,cv=10,scoring='neg_mean_squared_error')\n",
        "np.sqrt(-scores).mean().round(1), np.sqrt(-scores).std().round(1)"
      ],
      "execution_count": null,
      "outputs": [
        {
          "output_type": "execute_result",
          "data": {
            "text/plain": [
              "(69908.6, 21158.1)"
            ]
          },
          "metadata": {},
          "execution_count": 27
        }
      ]
    },
    {
      "cell_type": "markdown",
      "metadata": {
        "id": "7XTlAMGgMSDu"
      },
      "source": [
        "**Making Predictions**"
      ]
    },
    {
      "cell_type": "code",
      "metadata": {
        "colab": {
          "base_uri": "https://localhost:8080/"
        },
        "id": "16F0vmyZMW8i",
        "outputId": "fb866fbe-88b0-4e35-ef85-8b1522184b47"
      },
      "source": [
        "lin_reg.fit(xtrain, y_train)"
      ],
      "execution_count": null,
      "outputs": [
        {
          "output_type": "execute_result",
          "data": {
            "text/plain": [
              "LinearRegression(copy_X=True, fit_intercept=True, n_jobs=None, normalize=False)"
            ]
          },
          "metadata": {},
          "execution_count": 28
        }
      ]
    },
    {
      "cell_type": "code",
      "metadata": {
        "colab": {
          "base_uri": "https://localhost:8080/"
        },
        "id": "H_XcJy3wL3wZ",
        "outputId": "913c9974-e50e-407c-cbe5-1f78eb62d820"
      },
      "source": [
        "from sklearn.metrics import mean_squared_error, r2_score\n",
        "\n",
        "y_pred=lin_reg.predict(xtest)\n",
        "\n",
        "mse=mean_squared_error(y_test,y_pred)\n",
        "rmse=np.sqrt(mse)\n",
        "\n",
        "r2=r2_score(y_test,y_pred)\n",
        "\n",
        "print('rmse:', rmse.round(1))\n",
        "print('r2_score:',r2.round(1))"
      ],
      "execution_count": null,
      "outputs": [
        {
          "output_type": "stream",
          "name": "stdout",
          "text": [
            "rmse: 71767.2\n",
            "r2_score: 0.7\n"
          ]
        }
      ]
    },
    {
      "cell_type": "code",
      "metadata": {
        "colab": {
          "base_uri": "https://localhost:8080/"
        },
        "id": "-loDy-iaQ6D_",
        "outputId": "e05c1cc8-a2ef-4e30-8987-35ccdf61115c"
      },
      "source": [
        "y_test.shape"
      ],
      "execution_count": null,
      "outputs": [
        {
          "output_type": "execute_result",
          "data": {
            "text/plain": [
              "(20,)"
            ]
          },
          "metadata": {},
          "execution_count": 30
        }
      ]
    },
    {
      "cell_type": "code",
      "metadata": {
        "colab": {
          "base_uri": "https://localhost:8080/",
          "height": 281
        },
        "id": "lnj1Y6kuQ072",
        "outputId": "b237d544-0fc3-4f9c-9f3e-6d8c8e98db50"
      },
      "source": [
        "import matplotlib.pyplot as plt\n",
        "\n",
        "plt.plot(range(1,21),y_test,color='b')\n",
        "plt.plot(range(1,21),y_pred,color='r')\n",
        "\n",
        "plt.ylabel('error')\n",
        "plt.title('Actual and Predicted');"
      ],
      "execution_count": null,
      "outputs": [
        {
          "output_type": "display_data",
          "data": {
            "image/png": "[encoded data removed]",
            "text/plain": [
              "<Figure size 432x288 with 1 Axes>"
            ]
          },
          "metadata": {
            "needs_background": "light"
          }
        }
      ]
    },
    {
      "cell_type": "code",
      "metadata": {
        "colab": {
          "base_uri": "https://localhost:8080/",
          "height": 281
        },
        "id": "xNJQvUYbRFNs",
        "outputId": "dba63386-da87-4563-e34f-861039763b5b"
      },
      "source": [
        "plt.scatter(range(1,21),y_test,color='b')\n",
        "plt.scatter(range(1,21),y_pred,color='r')\n",
        "\n",
        "plt.ylabel('error')\n",
        "plt.title('Actual and Predicted');"
      ],
      "execution_count": null,
      "outputs": [
        {
          "output_type": "display_data",
          "data": {
            "image/png": "[encoded data removed]",
            "text/plain": [
              "<Figure size 432x288 with 1 Axes>"
            ]
          },
          "metadata": {
            "needs_background": "light"
          }
        }
      ]
    },
    {
      "cell_type": "code",
      "metadata": {
        "colab": {
          "base_uri": "https://localhost:8080/",
          "height": 281
        },
        "id": "adaOsQidRMiw",
        "outputId": "95a92329-a685-49d1-dc6c-f4bb6c2829d8"
      },
      "source": [
        "plt.plot(range(1,21), y_test-y_pred)\n",
        "plt.title('error');"
      ],
      "execution_count": null,
      "outputs": [
        {
          "output_type": "display_data",
          "data": {
            "image/png": "[encoded data removed]",
            "text/plain": [
              "<Figure size 432x288 with 1 Axes>"
            ]
          },
          "metadata": {
            "needs_background": "light"
          }
        }
      ]
    },
    {
      "cell_type": "markdown",
      "metadata": {
        "id": "13tnZus1RZXH"
      },
      "source": [
        "**Confidence Interval**\n",
        "\n",
        "scipy.stats.sem\n",
        "\n",
        "scipy.stats.sem(a, axis=0, ddof=1, nan_policy='propagate')\n",
        "\n",
        "Calculate the standard error of the mean of the values in the input array."
      ]
    },
    {
      "cell_type": "code",
      "metadata": {
        "colab": {
          "base_uri": "https://localhost:8080/"
        },
        "id": "0XsBpFRkRgj-",
        "outputId": "dc482f2c-d8d1-43c8-888f-490c05aa66fa"
      },
      "source": [
        "from scipy import stats\n",
        "\n",
        "confidence=0.95\n",
        "err=(y_test-y_pred)**2\n",
        "\n",
        "conf=stats.t.interval(confidence, len(err)-1,\n",
        "                 loc=np.mean(err),scale=stats.sem(err))\n",
        "\n",
        "np.sqrt(conf).round(1)"
      ],
      "execution_count": null,
      "outputs": [
        {
          "output_type": "execute_result",
          "data": {
            "text/plain": [
              "array([  8940.4, 101099.5])"
            ]
          },
          "metadata": {},
          "execution_count": 34
        }
      ]
    }
  ]
}